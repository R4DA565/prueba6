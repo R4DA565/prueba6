{
 "cells": [
  {
   "cell_type": "markdown",
   "id": "09110abd",
   "metadata": {},
   "source": [
    "### Requerimientos de Solucion:\n",
    "- Poner tunombre y tu numero de control al jupiter y en un celda como Markdown\n",
    "- Reliazar la exploracion de los datos para entenderlos, pude usar pandas o numpy\n",
    "- hacer el modelo predictivo\n",
    "- No olvidar las validaciones que considere necesarias\n",
    "- Documentar y/o justificar cualquier decisión que tome en su desarrollo.\n",
    "- Usar el nombre de variables, de funciones, de ciclos y de programas acorde a la problemática.\n",
    "- Hacer correllaciones, scatters, heatmaps, boxplot, graficas y todo aquellas graficas que permitan mostrar los resultados  \n",
    "\n"
   ]
  },
  {
   "cell_type": "markdown",
   "id": "8bd2da29",
   "metadata": {},
   "source": [
    "# Radahy Gerardo Garcia Chuc - 20390025 - Coffee Quality"
   ]
  },
  {
   "cell_type": "code",
   "execution_count": 1,
   "id": "4fa0de90",
   "metadata": {
    "scrolled": false
   },
   "outputs": [],
   "source": [
    "import pandas as pd"
   ]
  },
  {
   "cell_type": "code",
   "execution_count": 2,
   "id": "0dbee41e",
   "metadata": {},
   "outputs": [],
   "source": [
    "df = pd.read_csv(\"df_arabica_clean.csv\")"
   ]
  },
  {
   "cell_type": "code",
   "execution_count": 3,
   "id": "9bbe13ec",
   "metadata": {},
   "outputs": [
    {
     "data": {
      "text/html": [
       "<div>\n",
       "<style scoped>\n",
       "    .dataframe tbody tr th:only-of-type {\n",
       "        vertical-align: middle;\n",
       "    }\n",
       "\n",
       "    .dataframe tbody tr th {\n",
       "        vertical-align: top;\n",
       "    }\n",
       "\n",
       "    .dataframe thead th {\n",
       "        text-align: right;\n",
       "    }\n",
       "</style>\n",
       "<table border=\"1\" class=\"dataframe\">\n",
       "  <thead>\n",
       "    <tr style=\"text-align: right;\">\n",
       "      <th></th>\n",
       "      <th>Unnamed: 0</th>\n",
       "      <th>ID</th>\n",
       "      <th>Country of Origin</th>\n",
       "      <th>Farm Name</th>\n",
       "      <th>Lot Number</th>\n",
       "      <th>Mill</th>\n",
       "      <th>ICO Number</th>\n",
       "      <th>Company</th>\n",
       "      <th>Altitude</th>\n",
       "      <th>Region</th>\n",
       "      <th>...</th>\n",
       "      <th>Total Cup Points</th>\n",
       "      <th>Moisture Percentage</th>\n",
       "      <th>Category One Defects</th>\n",
       "      <th>Quakers</th>\n",
       "      <th>Color</th>\n",
       "      <th>Category Two Defects</th>\n",
       "      <th>Expiration</th>\n",
       "      <th>Certification Body</th>\n",
       "      <th>Certification Address</th>\n",
       "      <th>Certification Contact</th>\n",
       "    </tr>\n",
       "  </thead>\n",
       "  <tbody>\n",
       "    <tr>\n",
       "      <th>0</th>\n",
       "      <td>0</td>\n",
       "      <td>0</td>\n",
       "      <td>Colombia</td>\n",
       "      <td>Finca El Paraiso</td>\n",
       "      <td>CQU2022015</td>\n",
       "      <td>Finca El Paraiso</td>\n",
       "      <td>NaN</td>\n",
       "      <td>Coffee Quality Union</td>\n",
       "      <td>1700-1930</td>\n",
       "      <td>Piendamo,Cauca</td>\n",
       "      <td>...</td>\n",
       "      <td>89.33</td>\n",
       "      <td>11.8</td>\n",
       "      <td>0</td>\n",
       "      <td>0</td>\n",
       "      <td>green</td>\n",
       "      <td>3</td>\n",
       "      <td>September 21st, 2023</td>\n",
       "      <td>Japan Coffee Exchange</td>\n",
       "      <td>〒413-0002 静岡県熱海市伊豆山１１７３−５８ 1173-58 Izusan, Ata...</td>\n",
       "      <td>松澤　宏樹　Koju Matsuzawa - +81(0)9085642901</td>\n",
       "    </tr>\n",
       "    <tr>\n",
       "      <th>1</th>\n",
       "      <td>1</td>\n",
       "      <td>1</td>\n",
       "      <td>Taiwan</td>\n",
       "      <td>Royal Bean Geisha Estate</td>\n",
       "      <td>The 2022 Pacific Rim Coffee Summit,T037</td>\n",
       "      <td>Royal Bean Geisha Estate</td>\n",
       "      <td>NaN</td>\n",
       "      <td>Taiwan Coffee Laboratory</td>\n",
       "      <td>1200</td>\n",
       "      <td>Chiayi</td>\n",
       "      <td>...</td>\n",
       "      <td>87.58</td>\n",
       "      <td>10.5</td>\n",
       "      <td>0</td>\n",
       "      <td>0</td>\n",
       "      <td>blue-green</td>\n",
       "      <td>0</td>\n",
       "      <td>November 15th, 2023</td>\n",
       "      <td>Taiwan Coffee Laboratory 台灣咖啡研究室</td>\n",
       "      <td>QAHWAH CO., LTD 4F, No. 225, Sec. 3, Beixin Rd...</td>\n",
       "      <td>Lin, Jen-An Neil 林仁安 - 886-289116612</td>\n",
       "    </tr>\n",
       "    <tr>\n",
       "      <th>2</th>\n",
       "      <td>2</td>\n",
       "      <td>2</td>\n",
       "      <td>Laos</td>\n",
       "      <td>OKLAO coffee farms</td>\n",
       "      <td>The 2022 Pacific Rim Coffee Summit,LA01</td>\n",
       "      <td>oklao coffee processing plant</td>\n",
       "      <td>NaN</td>\n",
       "      <td>Taiwan Coffee Laboratory</td>\n",
       "      <td>1300</td>\n",
       "      <td>Laos Borofen Plateau</td>\n",
       "      <td>...</td>\n",
       "      <td>87.42</td>\n",
       "      <td>10.4</td>\n",
       "      <td>0</td>\n",
       "      <td>0</td>\n",
       "      <td>yellowish</td>\n",
       "      <td>2</td>\n",
       "      <td>November 15th, 2023</td>\n",
       "      <td>Taiwan Coffee Laboratory 台灣咖啡研究室</td>\n",
       "      <td>QAHWAH CO., LTD 4F, No. 225, Sec. 3, Beixin Rd...</td>\n",
       "      <td>Lin, Jen-An Neil 林仁安 - 886-289116612</td>\n",
       "    </tr>\n",
       "    <tr>\n",
       "      <th>3</th>\n",
       "      <td>3</td>\n",
       "      <td>3</td>\n",
       "      <td>Costa Rica</td>\n",
       "      <td>La Cumbre</td>\n",
       "      <td>CQU2022017</td>\n",
       "      <td>La Montana Tarrazu MIll</td>\n",
       "      <td>NaN</td>\n",
       "      <td>Coffee Quality Union</td>\n",
       "      <td>1900</td>\n",
       "      <td>Los Santos,Tarrazu</td>\n",
       "      <td>...</td>\n",
       "      <td>87.17</td>\n",
       "      <td>11.8</td>\n",
       "      <td>0</td>\n",
       "      <td>0</td>\n",
       "      <td>green</td>\n",
       "      <td>0</td>\n",
       "      <td>September 21st, 2023</td>\n",
       "      <td>Japan Coffee Exchange</td>\n",
       "      <td>〒413-0002 静岡県熱海市伊豆山１１７３−５８ 1173-58 Izusan, Ata...</td>\n",
       "      <td>松澤　宏樹　Koju Matsuzawa - +81(0)9085642901</td>\n",
       "    </tr>\n",
       "    <tr>\n",
       "      <th>4</th>\n",
       "      <td>4</td>\n",
       "      <td>4</td>\n",
       "      <td>Colombia</td>\n",
       "      <td>Finca Santuario</td>\n",
       "      <td>CQU2023002</td>\n",
       "      <td>Finca Santuario</td>\n",
       "      <td>NaN</td>\n",
       "      <td>Coffee Quality Union</td>\n",
       "      <td>1850-2100</td>\n",
       "      <td>Popayan,Cauca</td>\n",
       "      <td>...</td>\n",
       "      <td>87.08</td>\n",
       "      <td>11.6</td>\n",
       "      <td>0</td>\n",
       "      <td>2</td>\n",
       "      <td>yellow-green</td>\n",
       "      <td>2</td>\n",
       "      <td>March 5th, 2024</td>\n",
       "      <td>Japan Coffee Exchange</td>\n",
       "      <td>〒413-0002 静岡県熱海市伊豆山１１７３−５８ 1173-58 Izusan, Ata...</td>\n",
       "      <td>松澤　宏樹　Koju Matsuzawa - +81(0)9085642901</td>\n",
       "    </tr>\n",
       "    <tr>\n",
       "      <th>...</th>\n",
       "      <td>...</td>\n",
       "      <td>...</td>\n",
       "      <td>...</td>\n",
       "      <td>...</td>\n",
       "      <td>...</td>\n",
       "      <td>...</td>\n",
       "      <td>...</td>\n",
       "      <td>...</td>\n",
       "      <td>...</td>\n",
       "      <td>...</td>\n",
       "      <td>...</td>\n",
       "      <td>...</td>\n",
       "      <td>...</td>\n",
       "      <td>...</td>\n",
       "      <td>...</td>\n",
       "      <td>...</td>\n",
       "      <td>...</td>\n",
       "      <td>...</td>\n",
       "      <td>...</td>\n",
       "      <td>...</td>\n",
       "      <td>...</td>\n",
       "    </tr>\n",
       "    <tr>\n",
       "      <th>202</th>\n",
       "      <td>202</td>\n",
       "      <td>202</td>\n",
       "      <td>Brazil</td>\n",
       "      <td>Fazenda Conquista</td>\n",
       "      <td>019/22</td>\n",
       "      <td>Dry Mill</td>\n",
       "      <td>NaN</td>\n",
       "      <td>Ipanema Coffees</td>\n",
       "      <td>950</td>\n",
       "      <td>Sul de Minas</td>\n",
       "      <td>...</td>\n",
       "      <td>80.08</td>\n",
       "      <td>11.4</td>\n",
       "      <td>0</td>\n",
       "      <td>0</td>\n",
       "      <td>green</td>\n",
       "      <td>4</td>\n",
       "      <td>February 2nd, 2024</td>\n",
       "      <td>Brazil Specialty Coffee Association</td>\n",
       "      <td>Rua Gaspar Batista Paiva, 416 – Santa Luiza Va...</td>\n",
       "      <td>Chris Allen - 55 35 3212-4705</td>\n",
       "    </tr>\n",
       "    <tr>\n",
       "      <th>203</th>\n",
       "      <td>203</td>\n",
       "      <td>203</td>\n",
       "      <td>Nicaragua</td>\n",
       "      <td>Finca San Felipe</td>\n",
       "      <td>017-053-0155</td>\n",
       "      <td>Beneficio Atlantic Sébaco</td>\n",
       "      <td>017-053-0155</td>\n",
       "      <td>Exportadora Atlantic S.A</td>\n",
       "      <td>1200</td>\n",
       "      <td>Matagalpa</td>\n",
       "      <td>...</td>\n",
       "      <td>80.00</td>\n",
       "      <td>10.4</td>\n",
       "      <td>0</td>\n",
       "      <td>2</td>\n",
       "      <td>green</td>\n",
       "      <td>12</td>\n",
       "      <td>March 2nd, 2024</td>\n",
       "      <td>Asociación de Cafés Especiales de Nicaragua</td>\n",
       "      <td>Del Hotel Seminole 2 C al lago, 1 C arriba.</td>\n",
       "      <td>Maria Ines Benavidez Toval - 011-(505)-8396 4717</td>\n",
       "    </tr>\n",
       "    <tr>\n",
       "      <th>204</th>\n",
       "      <td>204</td>\n",
       "      <td>204</td>\n",
       "      <td>Laos</td>\n",
       "      <td>-</td>\n",
       "      <td>105/3/VL7285-005</td>\n",
       "      <td>DRY MILL</td>\n",
       "      <td>105/3/VL7285-005</td>\n",
       "      <td>Marubeni Corporation</td>\n",
       "      <td>1300</td>\n",
       "      <td>Bolaven Plateau</td>\n",
       "      <td>...</td>\n",
       "      <td>79.67</td>\n",
       "      <td>11.6</td>\n",
       "      <td>0</td>\n",
       "      <td>9</td>\n",
       "      <td>green</td>\n",
       "      <td>11</td>\n",
       "      <td>November 11th, 2023</td>\n",
       "      <td>Japan Coffee Exchange</td>\n",
       "      <td>〒413-0002 静岡県熱海市伊豆山１１７３−５８ 1173-58 Izusan, Ata...</td>\n",
       "      <td>松澤　宏樹　Koju Matsuzawa - +81(0)9085642901</td>\n",
       "    </tr>\n",
       "    <tr>\n",
       "      <th>205</th>\n",
       "      <td>205</td>\n",
       "      <td>205</td>\n",
       "      <td>El Salvador</td>\n",
       "      <td>Rosario de Maria II, Area de La Pila</td>\n",
       "      <td>0423A01</td>\n",
       "      <td>Optimum Coffee, San Salvador, El Salvador</td>\n",
       "      <td>NaN</td>\n",
       "      <td>Aprentium Enterprises LLC</td>\n",
       "      <td>1200</td>\n",
       "      <td>Volcan de San Vicente, La Paz, El Salvador</td>\n",
       "      <td>...</td>\n",
       "      <td>78.08</td>\n",
       "      <td>11.0</td>\n",
       "      <td>0</td>\n",
       "      <td>12</td>\n",
       "      <td>bluish-green</td>\n",
       "      <td>13</td>\n",
       "      <td>March 7th, 2024</td>\n",
       "      <td>Salvadoran Coffee Council</td>\n",
       "      <td>Final 1a. Av. Norte y 13 Calle Pte., dentro de...</td>\n",
       "      <td>Tomas Bonilla - (503) 2505-6600</td>\n",
       "    </tr>\n",
       "    <tr>\n",
       "      <th>206</th>\n",
       "      <td>206</td>\n",
       "      <td>206</td>\n",
       "      <td>Brazil</td>\n",
       "      <td>Walter Matter</td>\n",
       "      <td>1058 y 1059</td>\n",
       "      <td>Beneficio humedo/seco</td>\n",
       "      <td>002/1208/1016</td>\n",
       "      <td>Descafeinadores Mexicano SA. de CV</td>\n",
       "      <td>850-1100</td>\n",
       "      <td>Minas Gerais</td>\n",
       "      <td>...</td>\n",
       "      <td>78.00</td>\n",
       "      <td>11.3</td>\n",
       "      <td>0</td>\n",
       "      <td>0</td>\n",
       "      <td>green</td>\n",
       "      <td>1</td>\n",
       "      <td>November 18th, 2023</td>\n",
       "      <td>Centro Agroecológico del Café A.C.</td>\n",
       "      <td>Instituto de Ecología A. C., Campus III Edific...</td>\n",
       "      <td>Stephany Escamilla Femat - Tel. +52 228 842180...</td>\n",
       "    </tr>\n",
       "  </tbody>\n",
       "</table>\n",
       "<p>207 rows × 41 columns</p>\n",
       "</div>"
      ],
      "text/plain": [
       "     Unnamed: 0   ID Country of Origin                             Farm Name  \\\n",
       "0             0    0          Colombia                      Finca El Paraiso   \n",
       "1             1    1            Taiwan              Royal Bean Geisha Estate   \n",
       "2             2    2              Laos                    OKLAO coffee farms   \n",
       "3             3    3        Costa Rica                             La Cumbre   \n",
       "4             4    4          Colombia                       Finca Santuario   \n",
       "..          ...  ...               ...                                   ...   \n",
       "202         202  202            Brazil                     Fazenda Conquista   \n",
       "203         203  203         Nicaragua                      Finca San Felipe   \n",
       "204         204  204              Laos                                     -   \n",
       "205         205  205       El Salvador  Rosario de Maria II, Area de La Pila   \n",
       "206         206  206            Brazil                         Walter Matter   \n",
       "\n",
       "                                  Lot Number  \\\n",
       "0                                 CQU2022015   \n",
       "1    The 2022 Pacific Rim Coffee Summit,T037   \n",
       "2    The 2022 Pacific Rim Coffee Summit,LA01   \n",
       "3                                 CQU2022017   \n",
       "4                                 CQU2023002   \n",
       "..                                       ...   \n",
       "202                                   019/22   \n",
       "203                             017-053-0155   \n",
       "204                         105/3/VL7285-005   \n",
       "205                                  0423A01   \n",
       "206                              1058 y 1059   \n",
       "\n",
       "                                          Mill        ICO Number  \\\n",
       "0                             Finca El Paraiso               NaN   \n",
       "1                     Royal Bean Geisha Estate               NaN   \n",
       "2                oklao coffee processing plant               NaN   \n",
       "3                      La Montana Tarrazu MIll               NaN   \n",
       "4                              Finca Santuario               NaN   \n",
       "..                                         ...               ...   \n",
       "202                                   Dry Mill               NaN   \n",
       "203                  Beneficio Atlantic Sébaco      017-053-0155   \n",
       "204                                   DRY MILL  105/3/VL7285-005   \n",
       "205  Optimum Coffee, San Salvador, El Salvador               NaN   \n",
       "206                      Beneficio humedo/seco     002/1208/1016   \n",
       "\n",
       "                                Company   Altitude  \\\n",
       "0                  Coffee Quality Union  1700-1930   \n",
       "1              Taiwan Coffee Laboratory       1200   \n",
       "2              Taiwan Coffee Laboratory       1300   \n",
       "3                  Coffee Quality Union       1900   \n",
       "4                  Coffee Quality Union  1850-2100   \n",
       "..                                  ...        ...   \n",
       "202                     Ipanema Coffees        950   \n",
       "203            Exportadora Atlantic S.A       1200   \n",
       "204                Marubeni Corporation       1300   \n",
       "205           Aprentium Enterprises LLC       1200   \n",
       "206  Descafeinadores Mexicano SA. de CV   850-1100   \n",
       "\n",
       "                                         Region  ... Total Cup Points  \\\n",
       "0                                Piendamo,Cauca  ...            89.33   \n",
       "1                                        Chiayi  ...            87.58   \n",
       "2                          Laos Borofen Plateau  ...            87.42   \n",
       "3                            Los Santos,Tarrazu  ...            87.17   \n",
       "4                                 Popayan,Cauca  ...            87.08   \n",
       "..                                          ...  ...              ...   \n",
       "202                                Sul de Minas  ...            80.08   \n",
       "203                                   Matagalpa  ...            80.00   \n",
       "204                             Bolaven Plateau  ...            79.67   \n",
       "205  Volcan de San Vicente, La Paz, El Salvador  ...            78.08   \n",
       "206                                Minas Gerais  ...            78.00   \n",
       "\n",
       "     Moisture Percentage Category One Defects Quakers         Color  \\\n",
       "0                   11.8                    0       0         green   \n",
       "1                   10.5                    0       0    blue-green   \n",
       "2                   10.4                    0       0     yellowish   \n",
       "3                   11.8                    0       0         green   \n",
       "4                   11.6                    0       2  yellow-green   \n",
       "..                   ...                  ...     ...           ...   \n",
       "202                 11.4                    0       0         green   \n",
       "203                 10.4                    0       2         green   \n",
       "204                 11.6                    0       9         green   \n",
       "205                 11.0                    0      12  bluish-green   \n",
       "206                 11.3                    0       0         green   \n",
       "\n",
       "    Category Two Defects            Expiration  \\\n",
       "0                      3  September 21st, 2023   \n",
       "1                      0   November 15th, 2023   \n",
       "2                      2   November 15th, 2023   \n",
       "3                      0  September 21st, 2023   \n",
       "4                      2       March 5th, 2024   \n",
       "..                   ...                   ...   \n",
       "202                    4    February 2nd, 2024   \n",
       "203                   12       March 2nd, 2024   \n",
       "204                   11   November 11th, 2023   \n",
       "205                   13       March 7th, 2024   \n",
       "206                    1   November 18th, 2023   \n",
       "\n",
       "                              Certification Body  \\\n",
       "0                          Japan Coffee Exchange   \n",
       "1               Taiwan Coffee Laboratory 台灣咖啡研究室   \n",
       "2               Taiwan Coffee Laboratory 台灣咖啡研究室   \n",
       "3                          Japan Coffee Exchange   \n",
       "4                          Japan Coffee Exchange   \n",
       "..                                           ...   \n",
       "202          Brazil Specialty Coffee Association   \n",
       "203  Asociación de Cafés Especiales de Nicaragua   \n",
       "204                        Japan Coffee Exchange   \n",
       "205                    Salvadoran Coffee Council   \n",
       "206           Centro Agroecológico del Café A.C.   \n",
       "\n",
       "                                 Certification Address  \\\n",
       "0    〒413-0002 静岡県熱海市伊豆山１１７３−５８ 1173-58 Izusan, Ata...   \n",
       "1    QAHWAH CO., LTD 4F, No. 225, Sec. 3, Beixin Rd...   \n",
       "2    QAHWAH CO., LTD 4F, No. 225, Sec. 3, Beixin Rd...   \n",
       "3    〒413-0002 静岡県熱海市伊豆山１１７３−５８ 1173-58 Izusan, Ata...   \n",
       "4    〒413-0002 静岡県熱海市伊豆山１１７３−５８ 1173-58 Izusan, Ata...   \n",
       "..                                                 ...   \n",
       "202  Rua Gaspar Batista Paiva, 416 – Santa Luiza Va...   \n",
       "203        Del Hotel Seminole 2 C al lago, 1 C arriba.   \n",
       "204  〒413-0002 静岡県熱海市伊豆山１１７３−５８ 1173-58 Izusan, Ata...   \n",
       "205  Final 1a. Av. Norte y 13 Calle Pte., dentro de...   \n",
       "206  Instituto de Ecología A. C., Campus III Edific...   \n",
       "\n",
       "                                 Certification Contact  \n",
       "0              松澤　宏樹　Koju Matsuzawa - +81(0)9085642901  \n",
       "1                 Lin, Jen-An Neil 林仁安 - 886-289116612  \n",
       "2                 Lin, Jen-An Neil 林仁安 - 886-289116612  \n",
       "3              松澤　宏樹　Koju Matsuzawa - +81(0)9085642901  \n",
       "4              松澤　宏樹　Koju Matsuzawa - +81(0)9085642901  \n",
       "..                                                 ...  \n",
       "202                      Chris Allen - 55 35 3212-4705  \n",
       "203   Maria Ines Benavidez Toval - 011-(505)-8396 4717  \n",
       "204            松澤　宏樹　Koju Matsuzawa - +81(0)9085642901  \n",
       "205                    Tomas Bonilla - (503) 2505-6600  \n",
       "206  Stephany Escamilla Femat - Tel. +52 228 842180...  \n",
       "\n",
       "[207 rows x 41 columns]"
      ]
     },
     "execution_count": 3,
     "metadata": {},
     "output_type": "execute_result"
    }
   ],
   "source": [
    "df"
   ]
  },
  {
   "cell_type": "markdown",
   "id": "c994ae92",
   "metadata": {},
   "source": [
    "# Understanding the Data\n"
   ]
  },
  {
   "cell_type": "markdown",
   "id": "c4f70b26",
   "metadata": {},
   "source": [
    "## Number of rows and columns"
   ]
  },
  {
   "cell_type": "code",
   "execution_count": 4,
   "id": "30c30c44",
   "metadata": {},
   "outputs": [
    {
     "name": "stdout",
     "output_type": "stream",
     "text": [
      "Número de filas: 207\n",
      "Número de columnas: 41\n"
     ]
    }
   ],
   "source": [
    "num_rows, num_cols = df.shape\n",
    "print(\"Número de filas:\", num_rows)\n",
    "print(\"Número de columnas:\", num_cols)"
   ]
  },
  {
   "cell_type": "markdown",
   "id": "f40f16fa",
   "metadata": {},
   "source": [
    "## Number of categorical variables and number of unique values for each"
   ]
  },
  {
   "cell_type": "code",
   "execution_count": 5,
   "id": "1c354bb5",
   "metadata": {},
   "outputs": [
    {
     "name": "stdout",
     "output_type": "stream",
     "text": [
      "Número de variables categóricas: 22\n",
      "Número de valores únicos para Country of Origin: 22\n",
      "Número de valores únicos para Farm Name: 172\n",
      "Número de valores únicos para Lot Number: 187\n",
      "Número de valores únicos para Mill: 162\n",
      "Número de valores únicos para ICO Number: 67\n",
      "Número de valores únicos para Company: 72\n",
      "Número de valores únicos para Altitude: 97\n",
      "Número de valores únicos para Region: 120\n",
      "Número de valores únicos para Producer: 172\n",
      "Número de valores únicos para Bag Weight: 39\n",
      "Número de valores únicos para In-Country Partner: 21\n",
      "Número de valores únicos para Harvest Year: 7\n",
      "Número de valores únicos para Grading Date: 75\n",
      "Número de valores únicos para Owner: 80\n",
      "Número de valores únicos para Variety: 48\n",
      "Número de valores únicos para Status: 1\n",
      "Número de valores únicos para Processing Method: 10\n",
      "Número de valores únicos para Color: 12\n",
      "Número de valores únicos para Expiration: 75\n",
      "Número de valores únicos para Certification Body: 21\n",
      "Número de valores únicos para Certification Address: 21\n",
      "Número de valores únicos para Certification Contact: 21\n"
     ]
    }
   ],
   "source": [
    "categorical_vars = df.select_dtypes(include='object').columns\n",
    "num_categorical_vars = len(categorical_vars)\n",
    "print(\"Número de variables categóricas:\", num_categorical_vars)\n",
    "\n",
    "for var in categorical_vars:\n",
    "    unique_values = df[var].nunique()\n",
    "    print(f\"Número de valores únicos para {var}: {unique_values}\")"
   ]
  },
  {
   "cell_type": "markdown",
   "id": "f82aba8d",
   "metadata": {},
   "source": [
    "## Missing values"
   ]
  },
  {
   "cell_type": "code",
   "execution_count": 6,
   "id": "b70c64d0",
   "metadata": {},
   "outputs": [
    {
     "name": "stdout",
     "output_type": "stream",
     "text": [
      "Valores faltantes:\n",
      "Unnamed: 0                 0\n",
      "ID                         0\n",
      "Country of Origin          0\n",
      "Farm Name                  2\n",
      "Lot Number                 1\n",
      "Mill                       3\n",
      "ICO Number               132\n",
      "Company                    0\n",
      "Altitude                   1\n",
      "Region                     2\n",
      "Producer                   1\n",
      "Number of Bags             0\n",
      "Bag Weight                 0\n",
      "In-Country Partner         0\n",
      "Harvest Year               0\n",
      "Grading Date               0\n",
      "Owner                      0\n",
      "Variety                    6\n",
      "Status                     0\n",
      "Processing Method          5\n",
      "Aroma                      0\n",
      "Flavor                     0\n",
      "Aftertaste                 0\n",
      "Acidity                    0\n",
      "Body                       0\n",
      "Balance                    0\n",
      "Uniformity                 0\n",
      "Clean Cup                  0\n",
      "Sweetness                  0\n",
      "Overall                    0\n",
      "Defects                    0\n",
      "Total Cup Points           0\n",
      "Moisture Percentage        0\n",
      "Category One Defects       0\n",
      "Quakers                    0\n",
      "Color                      0\n",
      "Category Two Defects       0\n",
      "Expiration                 0\n",
      "Certification Body         0\n",
      "Certification Address      0\n",
      "Certification Contact      0\n",
      "dtype: int64\n"
     ]
    }
   ],
   "source": [
    "missing_values = df.isnull().sum()\n",
    "print(\"Valores faltantes:\")\n",
    "print(missing_values)"
   ]
  },
  {
   "cell_type": "markdown",
   "id": "17cc127e",
   "metadata": {},
   "source": [
    "## Summary statistics for attributes and labels"
   ]
  },
  {
   "cell_type": "code",
   "execution_count": 7,
   "id": "2ee761b6",
   "metadata": {},
   "outputs": [
    {
     "name": "stdout",
     "output_type": "stream",
     "text": [
      "Estadísticas resumidas:\n",
      "       Unnamed: 0          ID  Number of Bags       Aroma      Flavor  \\\n",
      "count  207.000000  207.000000      207.000000  207.000000  207.000000   \n",
      "mean   103.000000  103.000000      155.449275    7.721063    7.744734   \n",
      "std     59.899917   59.899917      244.484868    0.287626    0.279613   \n",
      "min      0.000000    0.000000        1.000000    6.500000    6.750000   \n",
      "25%     51.500000   51.500000        1.000000    7.580000    7.580000   \n",
      "50%    103.000000  103.000000       14.000000    7.670000    7.750000   \n",
      "75%    154.500000  154.500000      275.000000    7.920000    7.920000   \n",
      "max    206.000000  206.000000     2240.000000    8.580000    8.500000   \n",
      "\n",
      "       Aftertaste    Acidity        Body     Balance  Uniformity  Clean Cup  \\\n",
      "count  207.000000  207.00000  207.000000  207.000000  207.000000      207.0   \n",
      "mean     7.599758    7.69029    7.640918    7.644058    9.990338       10.0   \n",
      "std      0.275911    0.25951    0.233499    0.256299    0.103306        0.0   \n",
      "min      6.670000    6.83000    6.830000    6.670000    8.670000       10.0   \n",
      "25%      7.420000    7.50000    7.500000    7.500000   10.000000       10.0   \n",
      "50%      7.580000    7.67000    7.670000    7.670000   10.000000       10.0   \n",
      "75%      7.750000    7.87500    7.750000    7.790000   10.000000       10.0   \n",
      "max      8.420000    8.58000    8.250000    8.420000   10.000000       10.0   \n",
      "\n",
      "       Sweetness     Overall  Defects  Total Cup Points  Moisture Percentage  \\\n",
      "count      207.0  207.000000    207.0        207.000000           207.000000   \n",
      "mean        10.0    7.676812      0.0         83.706570            10.735266   \n",
      "std          0.0    0.306359      0.0          1.730417             1.247468   \n",
      "min         10.0    6.670000      0.0         78.000000             0.000000   \n",
      "25%         10.0    7.500000      0.0         82.580000            10.100000   \n",
      "50%         10.0    7.670000      0.0         83.750000            10.800000   \n",
      "75%         10.0    7.920000      0.0         84.830000            11.500000   \n",
      "max         10.0    8.580000      0.0         89.330000            13.500000   \n",
      "\n",
      "       Category One Defects     Quakers  Category Two Defects  \n",
      "count            207.000000  207.000000            207.000000  \n",
      "mean               0.135266    0.690821              2.251208  \n",
      "std                0.592070    1.686918              2.950183  \n",
      "min                0.000000    0.000000              0.000000  \n",
      "25%                0.000000    0.000000              0.000000  \n",
      "50%                0.000000    0.000000              1.000000  \n",
      "75%                0.000000    1.000000              3.000000  \n",
      "max                5.000000   12.000000             16.000000  \n"
     ]
    }
   ],
   "source": [
    "summary_statistics = df.describe()\n",
    "print(\"Estadísticas resumidas:\")\n",
    "print(summary_statistics)"
   ]
  },
  {
   "cell_type": "code",
   "execution_count": 8,
   "id": "9c26159a",
   "metadata": {},
   "outputs": [
    {
     "data": {
      "image/png": "[encoded data removed]",
      "text/plain": [
       "<Figure size 1000x600 with 1 Axes>"
      ]
     },
     "metadata": {},
     "output_type": "display_data"
    }
   ],
   "source": [
    "import pandas as pd\n",
    "import numpy as np\n",
    "import matplotlib.pyplot as plt\n",
    "\n",
    "# Cargar el archivo CSV en un DataFrame\n",
    "df = pd.read_csv(\"df_arabica_clean.csv\")\n",
    "\n",
    "numeric_data = df.select_dtypes(include=[np.number]).values\n",
    "\n",
    "column_labels = list(df.select_dtypes(include=[np.number]).columns)\n",
    "\n",
    "fig, ax = plt.subplots(figsize=(10, 6))\n",
    "ax.boxplot(numeric_data, vert=False)\n",
    "ax.set_yticklabels(column_labels)\n",
    "ax.set_xlabel(\"Valor\")\n",
    "ax.set_ylabel(\"Atributos\")\n",
    "ax.set_title(\"Estadísticas resumidas con Cuartiles\")\n",
    "plt.show()"
   ]
  },
  {
   "cell_type": "markdown",
   "id": "3aaa6ad0",
   "metadata": {},
   "source": [
    "## Metricas para medir el desempeño de los modelos\n",
    "- Mean squared error - Error cuadratico medio: $MSE= \\frac{1}{m}\\sum_{i=1}^{m}(x_{i}-pred(x_{i}))^{2} $\n",
    "- Mean absolute error- Error obsoluto medio: $MAE=\\frac{1}{m}\\sum_{i=1}^{m}|x_{i}-pred(x_{i})|$ "
   ]
  },
  {
   "cell_type": "code",
   "execution_count": 9,
   "id": "45720565",
   "metadata": {},
   "outputs": [
    {
     "name": "stdout",
     "output_type": "stream",
     "text": [
      "Mean Squared Error (MSE): 6.568828418695144e-05\n",
      "Mean Absolute Error (MAE): 0.006573060421669449\n"
     ]
    }
   ],
   "source": [
    "import pandas as pd\n",
    "from sklearn.model_selection import train_test_split\n",
    "from sklearn.linear_model import LinearRegression\n",
    "from sklearn.metrics import mean_squared_error, mean_absolute_error\n",
    "\n",
    "# Cargar el archivo df_arabica_clean.csv\n",
    "df = pd.read_csv(\"df_arabica_clean.csv\")\n",
    "\n",
    "# Eliminar las columnas no numéricas o convertirlas en numéricas\n",
    "df_numeric = df.select_dtypes(include=[float, int])\n",
    "\n",
    "# Separar los datos en características (X) y variable objetivo (y)\n",
    "X = df_numeric.drop(\"Overall\", axis=1)\n",
    "y_actual = df_numeric[\"Overall\"]\n",
    "\n",
    "# Dividir los datos en conjuntos de entrenamiento y prueba\n",
    "X_train, X_test, y_train, y_test = train_test_split(X, y_actual, test_size=0.2, random_state=42)\n",
    "\n",
    "# Entrenar tu modelo\n",
    "modelo = LinearRegression()\n",
    "modelo.fit(X_train, y_train)\n",
    "\n",
    "# Hacer las predicciones en los datos de prueba\n",
    "y_pred = modelo.predict(X_test)\n",
    "\n",
    "# Calcular el MSE y el MAE\n",
    "mse = mean_squared_error(y_test, y_pred)\n",
    "mae = mean_absolute_error(y_test, y_pred)\n",
    "\n",
    "print(\"Mean Squared Error (MSE):\", mse)\n",
    "print(\"Mean Absolute Error (MAE):\", mae)"
   ]
  },
  {
   "cell_type": "markdown",
   "id": "3799dcb1",
   "metadata": {},
   "source": [
    "## Receiver Operating Characteristics (ROC)\n",
    "\n",
    "The ROC curve yields a single plot that summarizes all of these different contingency \n",
    "tables. The ROC curve plots the true positive rate ($TPR=\\frac{TP}{TP+FN}$) versus \n",
    "the false positive rate ($FPR=\\frac{FP}{TN+FP}$). \n",
    "- TPR is the proportion of positive examples that \n",
    "are correctly classified as positive. \n",
    "- FPR is the number of FPs \n",
    "relative to the total number of actual negatives."
   ]
  },
  {
   "cell_type": "code",
   "execution_count": 10,
   "id": "e59275b0",
   "metadata": {},
   "outputs": [],
   "source": [
    "import pandas as pd\n",
    "from sklearn.model_selection import train_test_split\n",
    "from sklearn.linear_model import LinearRegression\n",
    "from sklearn.metrics import roc_curve, auc\n",
    "import matplotlib.pyplot as plt\n",
    "\n",
    "# Cargar el archivo CSV\n",
    "df = pd.read_csv(\"df_arabica_clean.csv\")\n",
    "\n",
    "# Seleccionar las columnas numéricas para el modelo\n",
    "columnas_numericas = ['ID', 'Number of Bags', 'Aroma', 'Flavor', 'Aftertaste', 'Acidity',\n",
    "                      'Body', 'Balance', 'Uniformity', 'Clean Cup', 'Sweetness',\n",
    "                      'Defects', 'Total Cup Points', 'Moisture Percentage',\n",
    "                      'Category One Defects', 'Quakers', 'Category Two Defects']\n",
    "\n",
    "# Convertir la columna \"Quakers\" en una variable binaria\n",
    "df['Quakers'] = df['Quakers'].apply(lambda x: 1 if x > 0 else 0)"
   ]
  },
  {
   "cell_type": "code",
   "execution_count": 11,
   "id": "018eae73",
   "metadata": {},
   "outputs": [],
   "source": [
    "# Seleccionar la columna objetivo\n",
    "y_actual = df[\"Quakers\"]\n",
    "\n",
    "# Realizar la codificación one-hot de las variables categóricas\n",
    "df_encoded = pd.get_dummies(df[columnas_numericas])\n",
    "\n",
    "# Combinar las columnas numéricas codificadas con la columna objetivo\n",
    "X = pd.concat([df_encoded, df[columnas_numericas]], axis=1)"
   ]
  },
  {
   "cell_type": "code",
   "execution_count": 12,
   "id": "16bf6c49",
   "metadata": {},
   "outputs": [
    {
     "data": {
      "text/html": [
       "<style>#sk-container-id-1 {color: black;background-color: white;}#sk-container-id-1 pre{padding: 0;}#sk-container-id-1 div.sk-toggleable {background-color: white;}#sk-container-id-1 label.sk-toggleable__label {cursor: pointer;display: block;width: 100%;margin-bottom: 0;padding: 0.3em;box-sizing: border-box;text-align: center;}#sk-container-id-1 label.sk-toggleable__label-arrow:before {content: \"▸\";float: left;margin-right: 0.25em;color: #696969;}#sk-container-id-1 label.sk-toggleable__label-arrow:hover:before {color: black;}#sk-container-id-1 div.sk-estimator:hover label.sk-toggleable__label-arrow:before {color: black;}#sk-container-id-1 div.sk-toggleable__content {max-height: 0;max-width: 0;overflow: hidden;text-align: left;background-color: #f0f8ff;}#sk-container-id-1 div.sk-toggleable__content pre {margin: 0.2em;color: black;border-radius: 0.25em;background-color: #f0f8ff;}#sk-container-id-1 input.sk-toggleable__control:checked~div.sk-toggleable__content {max-height: 200px;max-width: 100%;overflow: auto;}#sk-container-id-1 input.sk-toggleable__control:checked~label.sk-toggleable__label-arrow:before {content: \"▾\";}#sk-container-id-1 div.sk-estimator input.sk-toggleable__control:checked~label.sk-toggleable__label {background-color: #d4ebff;}#sk-container-id-1 div.sk-label input.sk-toggleable__control:checked~label.sk-toggleable__label {background-color: #d4ebff;}#sk-container-id-1 input.sk-hidden--visually {border: 0;clip: rect(1px 1px 1px 1px);clip: rect(1px, 1px, 1px, 1px);height: 1px;margin: -1px;overflow: hidden;padding: 0;position: absolute;width: 1px;}#sk-container-id-1 div.sk-estimator {font-family: monospace;background-color: #f0f8ff;border: 1px dotted black;border-radius: 0.25em;box-sizing: border-box;margin-bottom: 0.5em;}#sk-container-id-1 div.sk-estimator:hover {background-color: #d4ebff;}#sk-container-id-1 div.sk-parallel-item::after {content: \"\";width: 100%;border-bottom: 1px solid gray;flex-grow: 1;}#sk-container-id-1 div.sk-label:hover label.sk-toggleable__label {background-color: #d4ebff;}#sk-container-id-1 div.sk-serial::before {content: \"\";position: absolute;border-left: 1px solid gray;box-sizing: border-box;top: 0;bottom: 0;left: 50%;z-index: 0;}#sk-container-id-1 div.sk-serial {display: flex;flex-direction: column;align-items: center;background-color: white;padding-right: 0.2em;padding-left: 0.2em;position: relative;}#sk-container-id-1 div.sk-item {position: relative;z-index: 1;}#sk-container-id-1 div.sk-parallel {display: flex;align-items: stretch;justify-content: center;background-color: white;position: relative;}#sk-container-id-1 div.sk-item::before, #sk-container-id-1 div.sk-parallel-item::before {content: \"\";position: absolute;border-left: 1px solid gray;box-sizing: border-box;top: 0;bottom: 0;left: 50%;z-index: -1;}#sk-container-id-1 div.sk-parallel-item {display: flex;flex-direction: column;z-index: 1;position: relative;background-color: white;}#sk-container-id-1 div.sk-parallel-item:first-child::after {align-self: flex-end;width: 50%;}#sk-container-id-1 div.sk-parallel-item:last-child::after {align-self: flex-start;width: 50%;}#sk-container-id-1 div.sk-parallel-item:only-child::after {width: 0;}#sk-container-id-1 div.sk-dashed-wrapped {border: 1px dashed gray;margin: 0 0.4em 0.5em 0.4em;box-sizing: border-box;padding-bottom: 0.4em;background-color: white;}#sk-container-id-1 div.sk-label label {font-family: monospace;font-weight: bold;display: inline-block;line-height: 1.2em;}#sk-container-id-1 div.sk-label-container {text-align: center;}#sk-container-id-1 div.sk-container {/* jupyter's `normalize.less` sets `[hidden] { display: none; }` but bootstrap.min.css set `[hidden] { display: none !important; }` so we also need the `!important` here to be able to override the default hidden behavior on the sphinx rendered scikit-learn.org. See: https://github.com/scikit-learn/scikit-learn/issues/21755 */display: inline-block !important;position: relative;}#sk-container-id-1 div.sk-text-repr-fallback {display: none;}</style><div id=\"sk-container-id-1\" class=\"sk-top-container\"><div class=\"sk-text-repr-fallback\"><pre>LinearRegression()</pre><b>In a Jupyter environment, please rerun this cell to show the HTML representation or trust the notebook. <br />On GitHub, the HTML representation is unable to render, please try loading this page with nbviewer.org.</b></div><div class=\"sk-container\" hidden><div class=\"sk-item\"><div class=\"sk-estimator sk-toggleable\"><input class=\"sk-toggleable__control sk-hidden--visually\" id=\"sk-estimator-id-1\" type=\"checkbox\" checked><label for=\"sk-estimator-id-1\" class=\"sk-toggleable__label sk-toggleable__label-arrow\">LinearRegression</label><div class=\"sk-toggleable__content\"><pre>LinearRegression()</pre></div></div></div></div></div>"
      ],
      "text/plain": [
       "LinearRegression()"
      ]
     },
     "execution_count": 12,
     "metadata": {},
     "output_type": "execute_result"
    }
   ],
   "source": [
    "# Dividir los datos en conjuntos de entrenamiento y prueba\n",
    "X_train, X_test, y_train, y_test = train_test_split(X, y_actual, test_size=0.2, random_state=42)\n",
    "\n",
    "# Entrenar tu modelo con los datos de entrenamiento\n",
    "modelo = LinearRegression()\n",
    "modelo.fit(X_train, y_train)"
   ]
  },
  {
   "cell_type": "code",
   "execution_count": 13,
   "id": "2de067d3",
   "metadata": {},
   "outputs": [],
   "source": [
    "# Obtener las probabilidades predichas por el modelo\n",
    "y_pred_prob = modelo.predict(X_test)\n",
    "\n",
    "# Calcular el FPR, TPR y umbral utilizando la función roc_curve\n",
    "fpr, tpr, thresholds = roc_curve(y_test, y_pred_prob)\n",
    "\n",
    "# Calcular el área bajo la curva ROC (AUC)\n",
    "roc_auc = auc(fpr, tpr)"
   ]
  },
  {
   "cell_type": "code",
   "execution_count": 14,
   "id": "43feb31e",
   "metadata": {},
   "outputs": [
    {
     "data": {
      "image/png": "[encoded data removed]",
      "text/plain": [
       "<Figure size 640x480 with 1 Axes>"
      ]
     },
     "metadata": {},
     "output_type": "display_data"
    }
   ],
   "source": [
    "# Graficar la curva ROC\n",
    "plt.figure()\n",
    "plt.plot(fpr, tpr, color='darkorange', lw=2, label='Curva ROC (AUC = %0.2f)' % roc_auc)\n",
    "plt.plot([0, 1], [0, 1], color='navy', lw=2, linestyle='--')\n",
    "plt.xlim([0.0, 1.0])\n",
    "plt.ylim([0.0, 1.05])\n",
    "plt.xlabel('Tasa de Falsos Positivos (FPR)')\n",
    "plt.ylabel('Tasa de Verdaderos Positivos (TPR)')\n",
    "plt.title('Curva ROC')\n",
    "plt.legend(loc=\"lower right\")\n",
    "plt.show()"
   ]
  },
  {
   "cell_type": "markdown",
   "id": "fc30f6f9",
   "metadata": {},
   "source": [
    "## LassoCV demo with data normalization and no normalization"
   ]
  },
  {
   "cell_type": "code",
   "execution_count": 15,
   "id": "e2b8ef8a",
   "metadata": {},
   "outputs": [],
   "source": [
    "import pandas as pd\n",
    "from sklearn.linear_model import LassoCV\n",
    "from sklearn.preprocessing import StandardScaler\n",
    "from sklearn.model_selection import train_test_split\n",
    "\n",
    "# Cargar el conjunto de datos\n",
    "df = pd.read_csv('df_arabica_clean.csv')\n",
    "\n",
    "# Seleccionar las columnas numéricas\n",
    "columnas_numericas = ['Aroma']"
   ]
  },
  {
   "cell_type": "code",
   "execution_count": 16,
   "id": "79435718",
   "metadata": {},
   "outputs": [],
   "source": [
    "# Filtrar el DataFrame solo con las columnas numéricas y la columna objetivo\n",
    "df_numericas = df[columnas_numericas + ['Overall']]\n",
    "\n",
    "# Dividir los datos en conjuntos de entrenamiento y prueba\n",
    "X = df_numericas.drop('Overall', axis=1)\n",
    "y = df_numericas['Overall']\n",
    "X_train, X_test, y_train, y_test = train_test_split(X, y, test_size=0.2, random_state=42)"
   ]
  },
  {
   "cell_type": "code",
   "execution_count": 17,
   "id": "3e5ddfe0",
   "metadata": {},
   "outputs": [
    {
     "data": {
      "text/html": [
       "<style>#sk-container-id-2 {color: black;background-color: white;}#sk-container-id-2 pre{padding: 0;}#sk-container-id-2 div.sk-toggleable {background-color: white;}#sk-container-id-2 label.sk-toggleable__label {cursor: pointer;display: block;width: 100%;margin-bottom: 0;padding: 0.3em;box-sizing: border-box;text-align: center;}#sk-container-id-2 label.sk-toggleable__label-arrow:before {content: \"▸\";float: left;margin-right: 0.25em;color: #696969;}#sk-container-id-2 label.sk-toggleable__label-arrow:hover:before {color: black;}#sk-container-id-2 div.sk-estimator:hover label.sk-toggleable__label-arrow:before {color: black;}#sk-container-id-2 div.sk-toggleable__content {max-height: 0;max-width: 0;overflow: hidden;text-align: left;background-color: #f0f8ff;}#sk-container-id-2 div.sk-toggleable__content pre {margin: 0.2em;color: black;border-radius: 0.25em;background-color: #f0f8ff;}#sk-container-id-2 input.sk-toggleable__control:checked~div.sk-toggleable__content {max-height: 200px;max-width: 100%;overflow: auto;}#sk-container-id-2 input.sk-toggleable__control:checked~label.sk-toggleable__label-arrow:before {content: \"▾\";}#sk-container-id-2 div.sk-estimator input.sk-toggleable__control:checked~label.sk-toggleable__label {background-color: #d4ebff;}#sk-container-id-2 div.sk-label input.sk-toggleable__control:checked~label.sk-toggleable__label {background-color: #d4ebff;}#sk-container-id-2 input.sk-hidden--visually {border: 0;clip: rect(1px 1px 1px 1px);clip: rect(1px, 1px, 1px, 1px);height: 1px;margin: -1px;overflow: hidden;padding: 0;position: absolute;width: 1px;}#sk-container-id-2 div.sk-estimator {font-family: monospace;background-color: #f0f8ff;border: 1px dotted black;border-radius: 0.25em;box-sizing: border-box;margin-bottom: 0.5em;}#sk-container-id-2 div.sk-estimator:hover {background-color: #d4ebff;}#sk-container-id-2 div.sk-parallel-item::after {content: \"\";width: 100%;border-bottom: 1px solid gray;flex-grow: 1;}#sk-container-id-2 div.sk-label:hover label.sk-toggleable__label {background-color: #d4ebff;}#sk-container-id-2 div.sk-serial::before {content: \"\";position: absolute;border-left: 1px solid gray;box-sizing: border-box;top: 0;bottom: 0;left: 50%;z-index: 0;}#sk-container-id-2 div.sk-serial {display: flex;flex-direction: column;align-items: center;background-color: white;padding-right: 0.2em;padding-left: 0.2em;position: relative;}#sk-container-id-2 div.sk-item {position: relative;z-index: 1;}#sk-container-id-2 div.sk-parallel {display: flex;align-items: stretch;justify-content: center;background-color: white;position: relative;}#sk-container-id-2 div.sk-item::before, #sk-container-id-2 div.sk-parallel-item::before {content: \"\";position: absolute;border-left: 1px solid gray;box-sizing: border-box;top: 0;bottom: 0;left: 50%;z-index: -1;}#sk-container-id-2 div.sk-parallel-item {display: flex;flex-direction: column;z-index: 1;position: relative;background-color: white;}#sk-container-id-2 div.sk-parallel-item:first-child::after {align-self: flex-end;width: 50%;}#sk-container-id-2 div.sk-parallel-item:last-child::after {align-self: flex-start;width: 50%;}#sk-container-id-2 div.sk-parallel-item:only-child::after {width: 0;}#sk-container-id-2 div.sk-dashed-wrapped {border: 1px dashed gray;margin: 0 0.4em 0.5em 0.4em;box-sizing: border-box;padding-bottom: 0.4em;background-color: white;}#sk-container-id-2 div.sk-label label {font-family: monospace;font-weight: bold;display: inline-block;line-height: 1.2em;}#sk-container-id-2 div.sk-label-container {text-align: center;}#sk-container-id-2 div.sk-container {/* jupyter's `normalize.less` sets `[hidden] { display: none; }` but bootstrap.min.css set `[hidden] { display: none !important; }` so we also need the `!important` here to be able to override the default hidden behavior on the sphinx rendered scikit-learn.org. See: https://github.com/scikit-learn/scikit-learn/issues/21755 */display: inline-block !important;position: relative;}#sk-container-id-2 div.sk-text-repr-fallback {display: none;}</style><div id=\"sk-container-id-2\" class=\"sk-top-container\"><div class=\"sk-text-repr-fallback\"><pre>LassoCV(cv=5)</pre><b>In a Jupyter environment, please rerun this cell to show the HTML representation or trust the notebook. <br />On GitHub, the HTML representation is unable to render, please try loading this page with nbviewer.org.</b></div><div class=\"sk-container\" hidden><div class=\"sk-item\"><div class=\"sk-estimator sk-toggleable\"><input class=\"sk-toggleable__control sk-hidden--visually\" id=\"sk-estimator-id-2\" type=\"checkbox\" checked><label for=\"sk-estimator-id-2\" class=\"sk-toggleable__label sk-toggleable__label-arrow\">LassoCV</label><div class=\"sk-toggleable__content\"><pre>LassoCV(cv=5)</pre></div></div></div></div></div>"
      ],
      "text/plain": [
       "LassoCV(cv=5)"
      ]
     },
     "execution_count": 17,
     "metadata": {},
     "output_type": "execute_result"
    }
   ],
   "source": [
    "# Sin normalización\n",
    "modelo_lasso = LassoCV(cv=5)\n",
    "modelo_lasso.fit(X_train, y_train)"
   ]
  },
  {
   "cell_type": "code",
   "execution_count": 18,
   "id": "e574b5f2",
   "metadata": {},
   "outputs": [
    {
     "data": {
      "text/html": [
       "<style>#sk-container-id-3 {color: black;background-color: white;}#sk-container-id-3 pre{padding: 0;}#sk-container-id-3 div.sk-toggleable {background-color: white;}#sk-container-id-3 label.sk-toggleable__label {cursor: pointer;display: block;width: 100%;margin-bottom: 0;padding: 0.3em;box-sizing: border-box;text-align: center;}#sk-container-id-3 label.sk-toggleable__label-arrow:before {content: \"▸\";float: left;margin-right: 0.25em;color: #696969;}#sk-container-id-3 label.sk-toggleable__label-arrow:hover:before {color: black;}#sk-container-id-3 div.sk-estimator:hover label.sk-toggleable__label-arrow:before {color: black;}#sk-container-id-3 div.sk-toggleable__content {max-height: 0;max-width: 0;overflow: hidden;text-align: left;background-color: #f0f8ff;}#sk-container-id-3 div.sk-toggleable__content pre {margin: 0.2em;color: black;border-radius: 0.25em;background-color: #f0f8ff;}#sk-container-id-3 input.sk-toggleable__control:checked~div.sk-toggleable__content {max-height: 200px;max-width: 100%;overflow: auto;}#sk-container-id-3 input.sk-toggleable__control:checked~label.sk-toggleable__label-arrow:before {content: \"▾\";}#sk-container-id-3 div.sk-estimator input.sk-toggleable__control:checked~label.sk-toggleable__label {background-color: #d4ebff;}#sk-container-id-3 div.sk-label input.sk-toggleable__control:checked~label.sk-toggleable__label {background-color: #d4ebff;}#sk-container-id-3 input.sk-hidden--visually {border: 0;clip: rect(1px 1px 1px 1px);clip: rect(1px, 1px, 1px, 1px);height: 1px;margin: -1px;overflow: hidden;padding: 0;position: absolute;width: 1px;}#sk-container-id-3 div.sk-estimator {font-family: monospace;background-color: #f0f8ff;border: 1px dotted black;border-radius: 0.25em;box-sizing: border-box;margin-bottom: 0.5em;}#sk-container-id-3 div.sk-estimator:hover {background-color: #d4ebff;}#sk-container-id-3 div.sk-parallel-item::after {content: \"\";width: 100%;border-bottom: 1px solid gray;flex-grow: 1;}#sk-container-id-3 div.sk-label:hover label.sk-toggleable__label {background-color: #d4ebff;}#sk-container-id-3 div.sk-serial::before {content: \"\";position: absolute;border-left: 1px solid gray;box-sizing: border-box;top: 0;bottom: 0;left: 50%;z-index: 0;}#sk-container-id-3 div.sk-serial {display: flex;flex-direction: column;align-items: center;background-color: white;padding-right: 0.2em;padding-left: 0.2em;position: relative;}#sk-container-id-3 div.sk-item {position: relative;z-index: 1;}#sk-container-id-3 div.sk-parallel {display: flex;align-items: stretch;justify-content: center;background-color: white;position: relative;}#sk-container-id-3 div.sk-item::before, #sk-container-id-3 div.sk-parallel-item::before {content: \"\";position: absolute;border-left: 1px solid gray;box-sizing: border-box;top: 0;bottom: 0;left: 50%;z-index: -1;}#sk-container-id-3 div.sk-parallel-item {display: flex;flex-direction: column;z-index: 1;position: relative;background-color: white;}#sk-container-id-3 div.sk-parallel-item:first-child::after {align-self: flex-end;width: 50%;}#sk-container-id-3 div.sk-parallel-item:last-child::after {align-self: flex-start;width: 50%;}#sk-container-id-3 div.sk-parallel-item:only-child::after {width: 0;}#sk-container-id-3 div.sk-dashed-wrapped {border: 1px dashed gray;margin: 0 0.4em 0.5em 0.4em;box-sizing: border-box;padding-bottom: 0.4em;background-color: white;}#sk-container-id-3 div.sk-label label {font-family: monospace;font-weight: bold;display: inline-block;line-height: 1.2em;}#sk-container-id-3 div.sk-label-container {text-align: center;}#sk-container-id-3 div.sk-container {/* jupyter's `normalize.less` sets `[hidden] { display: none; }` but bootstrap.min.css set `[hidden] { display: none !important; }` so we also need the `!important` here to be able to override the default hidden behavior on the sphinx rendered scikit-learn.org. See: https://github.com/scikit-learn/scikit-learn/issues/21755 */display: inline-block !important;position: relative;}#sk-container-id-3 div.sk-text-repr-fallback {display: none;}</style><div id=\"sk-container-id-3\" class=\"sk-top-container\"><div class=\"sk-text-repr-fallback\"><pre>LassoCV(cv=5)</pre><b>In a Jupyter environment, please rerun this cell to show the HTML representation or trust the notebook. <br />On GitHub, the HTML representation is unable to render, please try loading this page with nbviewer.org.</b></div><div class=\"sk-container\" hidden><div class=\"sk-item\"><div class=\"sk-estimator sk-toggleable\"><input class=\"sk-toggleable__control sk-hidden--visually\" id=\"sk-estimator-id-3\" type=\"checkbox\" checked><label for=\"sk-estimator-id-3\" class=\"sk-toggleable__label sk-toggleable__label-arrow\">LassoCV</label><div class=\"sk-toggleable__content\"><pre>LassoCV(cv=5)</pre></div></div></div></div></div>"
      ],
      "text/plain": [
       "LassoCV(cv=5)"
      ]
     },
     "execution_count": 18,
     "metadata": {},
     "output_type": "execute_result"
    }
   ],
   "source": [
    "# Con normalización\n",
    "escalador = StandardScaler()\n",
    "X_train_normalizado = escalador.fit_transform(X_train)\n",
    "X_test_normalizado = escalador.transform(X_test)\n",
    "\n",
    "modelo_lasso_normalizado = LassoCV(cv=5)\n",
    "modelo_lasso_normalizado.fit(X_train_normalizado, y_train)"
   ]
  },
  {
   "cell_type": "code",
   "execution_count": 19,
   "id": "8b5ab3e9",
   "metadata": {},
   "outputs": [
    {
     "name": "stdout",
     "output_type": "stream",
     "text": [
      "Rendimiento del modelo sin normalización: 0.7566141136745845\n",
      "Rendimiento del modelo con normalización: 0.7566141136745848\n"
     ]
    }
   ],
   "source": [
    "# Obtener las puntuaciones de rendimiento en los conjuntos de prueba\n",
    "score_sin_normalizacion = modelo_lasso.score(X_test, y_test)\n",
    "score_con_normalizacion = modelo_lasso_normalizado.score(X_test_normalizado, y_test)\n",
    "\n",
    "# Imprimir los resultados\n",
    "print(\"Rendimiento del modelo sin normalización:\", score_sin_normalizacion)\n",
    "print(\"Rendimiento del modelo con normalización:\", score_con_normalizacion)"
   ]
  },
  {
   "cell_type": "markdown",
   "id": "bbca6a8a",
   "metadata": {},
   "source": [
    "## Lasso Training on Full Data Set"
   ]
  },
  {
   "cell_type": "code",
   "execution_count": 20,
   "id": "9ae8244f",
   "metadata": {},
   "outputs": [],
   "source": [
    "import pandas as pd\n",
    "from sklearn.linear_model import LassoCV\n",
    "from sklearn.preprocessing import StandardScaler\n",
    "\n",
    "# Cargar el conjunto de datos\n",
    "df = pd.read_csv('df_arabica_clean.csv')\n",
    "\n",
    "# Seleccionar las columnas numéricas\n",
    "columnas_numericas = ['Aroma']"
   ]
  },
  {
   "cell_type": "code",
   "execution_count": 21,
   "id": "e16f6a82",
   "metadata": {},
   "outputs": [],
   "source": [
    "# Filtrar el DataFrame solo con las columnas numéricas y la columna objetivo\n",
    "df_numericas = df[columnas_numericas + ['Overall']]\n",
    "\n",
    "# Dividir los datos en características (X) y variable objetivo (y)\n",
    "X = df_numericas.drop('Overall', axis=1)\n",
    "y = df_numericas['Overall']"
   ]
  },
  {
   "cell_type": "code",
   "execution_count": 22,
   "id": "bb2e6141",
   "metadata": {},
   "outputs": [
    {
     "data": {
      "text/html": [
       "<style>#sk-container-id-4 {color: black;background-color: white;}#sk-container-id-4 pre{padding: 0;}#sk-container-id-4 div.sk-toggleable {background-color: white;}#sk-container-id-4 label.sk-toggleable__label {cursor: pointer;display: block;width: 100%;margin-bottom: 0;padding: 0.3em;box-sizing: border-box;text-align: center;}#sk-container-id-4 label.sk-toggleable__label-arrow:before {content: \"▸\";float: left;margin-right: 0.25em;color: #696969;}#sk-container-id-4 label.sk-toggleable__label-arrow:hover:before {color: black;}#sk-container-id-4 div.sk-estimator:hover label.sk-toggleable__label-arrow:before {color: black;}#sk-container-id-4 div.sk-toggleable__content {max-height: 0;max-width: 0;overflow: hidden;text-align: left;background-color: #f0f8ff;}#sk-container-id-4 div.sk-toggleable__content pre {margin: 0.2em;color: black;border-radius: 0.25em;background-color: #f0f8ff;}#sk-container-id-4 input.sk-toggleable__control:checked~div.sk-toggleable__content {max-height: 200px;max-width: 100%;overflow: auto;}#sk-container-id-4 input.sk-toggleable__control:checked~label.sk-toggleable__label-arrow:before {content: \"▾\";}#sk-container-id-4 div.sk-estimator input.sk-toggleable__control:checked~label.sk-toggleable__label {background-color: #d4ebff;}#sk-container-id-4 div.sk-label input.sk-toggleable__control:checked~label.sk-toggleable__label {background-color: #d4ebff;}#sk-container-id-4 input.sk-hidden--visually {border: 0;clip: rect(1px 1px 1px 1px);clip: rect(1px, 1px, 1px, 1px);height: 1px;margin: -1px;overflow: hidden;padding: 0;position: absolute;width: 1px;}#sk-container-id-4 div.sk-estimator {font-family: monospace;background-color: #f0f8ff;border: 1px dotted black;border-radius: 0.25em;box-sizing: border-box;margin-bottom: 0.5em;}#sk-container-id-4 div.sk-estimator:hover {background-color: #d4ebff;}#sk-container-id-4 div.sk-parallel-item::after {content: \"\";width: 100%;border-bottom: 1px solid gray;flex-grow: 1;}#sk-container-id-4 div.sk-label:hover label.sk-toggleable__label {background-color: #d4ebff;}#sk-container-id-4 div.sk-serial::before {content: \"\";position: absolute;border-left: 1px solid gray;box-sizing: border-box;top: 0;bottom: 0;left: 50%;z-index: 0;}#sk-container-id-4 div.sk-serial {display: flex;flex-direction: column;align-items: center;background-color: white;padding-right: 0.2em;padding-left: 0.2em;position: relative;}#sk-container-id-4 div.sk-item {position: relative;z-index: 1;}#sk-container-id-4 div.sk-parallel {display: flex;align-items: stretch;justify-content: center;background-color: white;position: relative;}#sk-container-id-4 div.sk-item::before, #sk-container-id-4 div.sk-parallel-item::before {content: \"\";position: absolute;border-left: 1px solid gray;box-sizing: border-box;top: 0;bottom: 0;left: 50%;z-index: -1;}#sk-container-id-4 div.sk-parallel-item {display: flex;flex-direction: column;z-index: 1;position: relative;background-color: white;}#sk-container-id-4 div.sk-parallel-item:first-child::after {align-self: flex-end;width: 50%;}#sk-container-id-4 div.sk-parallel-item:last-child::after {align-self: flex-start;width: 50%;}#sk-container-id-4 div.sk-parallel-item:only-child::after {width: 0;}#sk-container-id-4 div.sk-dashed-wrapped {border: 1px dashed gray;margin: 0 0.4em 0.5em 0.4em;box-sizing: border-box;padding-bottom: 0.4em;background-color: white;}#sk-container-id-4 div.sk-label label {font-family: monospace;font-weight: bold;display: inline-block;line-height: 1.2em;}#sk-container-id-4 div.sk-label-container {text-align: center;}#sk-container-id-4 div.sk-container {/* jupyter's `normalize.less` sets `[hidden] { display: none; }` but bootstrap.min.css set `[hidden] { display: none !important; }` so we also need the `!important` here to be able to override the default hidden behavior on the sphinx rendered scikit-learn.org. See: https://github.com/scikit-learn/scikit-learn/issues/21755 */display: inline-block !important;position: relative;}#sk-container-id-4 div.sk-text-repr-fallback {display: none;}</style><div id=\"sk-container-id-4\" class=\"sk-top-container\"><div class=\"sk-text-repr-fallback\"><pre>LassoCV(cv=5)</pre><b>In a Jupyter environment, please rerun this cell to show the HTML representation or trust the notebook. <br />On GitHub, the HTML representation is unable to render, please try loading this page with nbviewer.org.</b></div><div class=\"sk-container\" hidden><div class=\"sk-item\"><div class=\"sk-estimator sk-toggleable\"><input class=\"sk-toggleable__control sk-hidden--visually\" id=\"sk-estimator-id-4\" type=\"checkbox\" checked><label for=\"sk-estimator-id-4\" class=\"sk-toggleable__label sk-toggleable__label-arrow\">LassoCV</label><div class=\"sk-toggleable__content\"><pre>LassoCV(cv=5)</pre></div></div></div></div></div>"
      ],
      "text/plain": [
       "LassoCV(cv=5)"
      ]
     },
     "execution_count": 22,
     "metadata": {},
     "output_type": "execute_result"
    }
   ],
   "source": [
    "# Normalizar los datos\n",
    "escalador = StandardScaler()\n",
    "X_normalizado = escalador.fit_transform(X)\n",
    "\n",
    "# Entrenar el modelo Lasso con validación cruzada\n",
    "modelo_lasso = LassoCV(cv=5)\n",
    "modelo_lasso.fit(X_normalizado, y)"
   ]
  },
  {
   "cell_type": "code",
   "execution_count": 23,
   "id": "3accee4c",
   "metadata": {},
   "outputs": [
    {
     "name": "stdout",
     "output_type": "stream",
     "text": [
      "Rendimiento del modelo Lasso en el conjunto de datos completo: 0.6428258574090155\n"
     ]
    }
   ],
   "source": [
    "# Obtener el coeficiente de determinación R^2\n",
    "rendimiento = modelo_lasso.score(X_normalizado, y)\n",
    "\n",
    "# Imprimir el rendimiento del modelo\n",
    "print(\"Rendimiento del modelo Lasso en el conjunto de datos completo:\", rendimiento)"
   ]
  },
  {
   "cell_type": "code",
   "execution_count": null,
   "id": "4dfe9592",
   "metadata": {},
   "outputs": [],
   "source": []
  }
 ],
 "metadata": {
  "kernelspec": {
   "display_name": "Python 3 (ipykernel)",
   "language": "python",
   "name": "python3"
  },
  "language_info": {
   "codemirror_mode": {
    "name": "ipython",
    "version": 3
   },
   "file_extension": ".py",
   "mimetype": "text/x-python",
   "name": "python",
   "nbconvert_exporter": "python",
   "pygments_lexer": "ipython3",
   "version": "3.10.11"
  }
 },
 "nbformat": 4,
 "nbformat_minor": 5
}
